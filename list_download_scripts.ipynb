{
 "cells": [
  {
   "cell_type": "code",
   "execution_count": null,
   "id": "efec6b20",
   "metadata": {},
   "outputs": [],
   "source": [
    "import glob\n",
    "from pathlib import Path\n",
    "\n",
    "pattern = \"/Workspace/Users/*/*/utilities/downloader.sh\"\n",
    "paths = glob.glob(pattern)\n",
    "folders = sorted({Path(p).parts[4] for p in paths})\n",
    "print(folders)\n",
    "\n",
    "try:\n",
    "    dbutils.jobs.taskValues.set(key=\"download_folders\", value=folders, overwrite=True)\n",
    "except Exception as e:\n",
    "    print(f\"Could not set task values: {e}\")\n"
   ]
  }
 ],
 "metadata": {},
 "nbformat": 4,
 "nbformat_minor": 5
}
